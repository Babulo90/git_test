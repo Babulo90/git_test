{
 "cells": [
  {
   "cell_type": "code",
   "execution_count": 9,
   "metadata": {},
   "outputs": [
    {
     "name": "stdout",
     "output_type": "stream",
     "text": [
      "Enter the row number2\n",
      "enter elements of A\n",
      "2\n",
      "3\n",
      "4\n",
      "5\n",
      "6\n",
      "7\n",
      "6\n",
      "5\n",
      "Enter the column number2\n",
      "enter elements of B\n",
      "3\n",
      "4\n",
      "3\n",
      "2\n"
     ]
    }
   ],
   "source": [
    "import numpy as np\n",
    " \n",
    "m = int(input(\"Enter the row number\"))\n",
    "\n",
    "print ('enter elements of A')\n",
    "A = np.array([[input() for j in range(n)] for i in range(m)])\n",
    "\n",
    "n = int(input(\"Enter the column number\"))\n",
    "\n",
    "print ('enter elements of B')\n",
    "B = np.array([[input() for j in range(n)] for i in range(m)])\n"
   ]
  },
  {
   "cell_type": "markdown",
   "metadata": {},
   "source": []
  },
  {
   "cell_type": "code",
   "execution_count": null,
   "metadata": {},
   "outputs": [],
   "source": []
  }
 ],
 "metadata": {
  "kernelspec": {
   "display_name": "Python 3",
   "language": "python",
   "name": "python3"
  },
  "language_info": {
   "codemirror_mode": {
    "name": "ipython",
    "version": 3
   },
   "file_extension": ".py",
   "mimetype": "text/x-python",
   "name": "python",
   "nbconvert_exporter": "python",
   "pygments_lexer": "ipython3",
   "version": "3.8.10"
  }
 },
 "nbformat": 4,
 "nbformat_minor": 4
}
