{
 "cells": [
  {
   "cell_type": "code",
   "execution_count": 8,
   "metadata": {},
   "outputs": [
    {
     "name": "stdout",
     "output_type": "stream",
     "text": [
      "enter a num: 99\n",
      "divisorlist\n"
     ]
    }
   ],
   "source": [
    "import math\n",
    "a = int(input(\"enter a num: \"))\n",
    "listrange = list(range(1,a+1))\n",
    "divisorlist = []\n",
    "for b in listrange:\n",
    "    if a % b == 0:\n",
    "        divisorlist.append(b)\n",
    "        \n",
    "print('divisorlist')"
   ]
  },
  {
   "cell_type": "code",
   "execution_count": null,
   "metadata": {},
   "outputs": [],
   "source": []
  }
 ],
 "metadata": {
  "kernelspec": {
   "display_name": "Python 3",
   "language": "python",
   "name": "python3"
  },
  "language_info": {
   "codemirror_mode": {
    "name": "ipython",
    "version": 3
   },
   "file_extension": ".py",
   "mimetype": "text/x-python",
   "name": "python",
   "nbconvert_exporter": "python",
   "pygments_lexer": "ipython3",
   "version": "3.8.10"
  }
 },
 "nbformat": 4,
 "nbformat_minor": 4
}
