{
 "cells": [
  {
   "cell_type": "code",
   "execution_count": 10,
   "metadata": {},
   "outputs": [
    {
     "name": "stdout",
     "output_type": "stream",
     "text": [
      "[9, 15, 6, 8, 4, 1, 17, 2, 13, 7, 16, 11]\n",
      "[16, 2, 11, 10, 14, 6, 17, 19, 7, 9, 13, 18, 15, 12, 3, 1]\n",
      "[1, 2, 6, 7, 9, 11, 13, 15, 16, 17]\n"
     ]
    }
   ],
   "source": [
    "import random\n",
    "\n",
    "a = random.sample(range(1,20), 12)\n",
    "\n",
    "print(a)\n",
    "\n",
    "b = random.sample(range(1,20), 16)\n",
    "\n",
    "print(b)\n",
    "\n",
    "c = [i for i in set(a) if i in b]\n",
    "\n",
    "result = [i for i in c if c.count(i) == 1]\n",
    "\n",
    "print(result)"
   ]
  },
  {
   "cell_type": "code",
   "execution_count": null,
   "metadata": {},
   "outputs": [],
   "source": []
  }
 ],
 "metadata": {
  "kernelspec": {
   "display_name": "Python 3",
   "language": "python",
   "name": "python3"
  },
  "language_info": {
   "codemirror_mode": {
    "name": "ipython",
    "version": 3
   },
   "file_extension": ".py",
   "mimetype": "text/x-python",
   "name": "python",
   "nbconvert_exporter": "python",
   "pygments_lexer": "ipython3",
   "version": "3.8.10"
  }
 },
 "nbformat": 4,
 "nbformat_minor": 4
}
