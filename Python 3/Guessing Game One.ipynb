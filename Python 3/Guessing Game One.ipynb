{
 "cells": [
  {
   "cell_type": "code",
   "execution_count": null,
   "metadata": {},
   "outputs": [],
   "source": [
    "import random\n",
    "\n",
    "while True:\n",
    "    \n",
    "    a = int(input(\"type a number between 1 to 9\\n\"))\n",
    "\n",
    "    b = random.randint(1,9)\n",
    "\n",
    "    if a == b:\n",
    "        print(\"you've guessed exactly right\")\n",
    "        \n",
    "    elif a > b:\n",
    "        \n",
    "        print(\"you've gussed too high\")\n",
    "        \n",
    "    else:\n",
    "        \n",
    "        print(\"you've gueesed too low\")\n",
    "        \n",
    "    print(f\"The Number is, {b}\")\n",
    "    \n",
    "    play_again = input(\"Play again? (y/n): \")\n",
    "    \n",
    "    if play_again.lower() != \"y\":\n",
    "        \n",
    "        break\n"
   ]
  }
 ],
 "metadata": {
  "kernelspec": {
   "display_name": "Python 3",
   "language": "python",
   "name": "python3"
  },
  "language_info": {
   "codemirror_mode": {
    "name": "ipython",
    "version": 3
   },
   "file_extension": ".py",
   "mimetype": "text/x-python",
   "name": "python",
   "nbconvert_exporter": "python",
   "pygments_lexer": "ipython3",
   "version": "3.8.10"
  }
 },
 "nbformat": 4,
 "nbformat_minor": 4
}
