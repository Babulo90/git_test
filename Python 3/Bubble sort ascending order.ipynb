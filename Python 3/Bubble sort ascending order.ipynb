{
 "cells": [
  {
   "cell_type": "code",
   "execution_count": 1,
   "metadata": {},
   "outputs": [
    {
     "name": "stdout",
     "output_type": "stream",
     "text": [
      "sorted list =  [2, 5, 5, 2, 7, 0, 1]\n",
      "sorted list =  [2, 5, 5, 2, 0, 7, 1]\n",
      "sorted list =  [2, 5, 5, 2, 0, 1, 7]\n",
      "sorted list =  [2, 5, 2, 5, 0, 1, 7]\n",
      "sorted list =  [2, 5, 2, 0, 5, 1, 7]\n",
      "sorted list =  [2, 5, 2, 0, 1, 5, 7]\n",
      "sorted list =  [2, 2, 5, 0, 1, 5, 7]\n",
      "sorted list =  [2, 2, 0, 5, 1, 5, 7]\n",
      "sorted list =  [2, 2, 0, 1, 5, 5, 7]\n",
      "sorted list =  [2, 0, 2, 1, 5, 5, 7]\n",
      "sorted list =  [2, 0, 1, 2, 5, 5, 7]\n",
      "sorted list =  [0, 2, 1, 2, 5, 5, 7]\n",
      "sorted list =  [0, 1, 2, 2, 5, 5, 7]\n"
     ]
    }
   ],
   "source": [
    "L = [2,5,5,7,2,0,1]\n",
    "n = len(L)\n",
    "\n",
    "for i in range(n):\n",
    "    for j in range(0,n-i-1):\n",
    "        if L[j] > L[j+1]:\n",
    "            L[j], L[j+1] = L[j+1], L[j]\n",
    "            print ('sorted list = ', L)\n",
    "            \n"
   ]
  },
  {
   "cell_type": "code",
   "execution_count": null,
   "metadata": {},
   "outputs": [],
   "source": []
  },
  {
   "cell_type": "code",
   "execution_count": null,
   "metadata": {},
   "outputs": [],
   "source": []
  },
  {
   "cell_type": "code",
   "execution_count": null,
   "metadata": {},
   "outputs": [],
   "source": []
  },
  {
   "cell_type": "code",
   "execution_count": null,
   "metadata": {},
   "outputs": [],
   "source": []
  },
  {
   "cell_type": "code",
   "execution_count": null,
   "metadata": {},
   "outputs": [],
   "source": []
  },
  {
   "cell_type": "code",
   "execution_count": null,
   "metadata": {},
   "outputs": [],
   "source": []
  }
 ],
 "metadata": {
  "kernelspec": {
   "display_name": "Python 3",
   "language": "python",
   "name": "python3"
  },
  "language_info": {
   "codemirror_mode": {
    "name": "ipython",
    "version": 3
   },
   "file_extension": ".py",
   "mimetype": "text/x-python",
   "name": "python",
   "nbconvert_exporter": "python",
   "pygments_lexer": "ipython3",
   "version": "3.8.10"
  }
 },
 "nbformat": 4,
 "nbformat_minor": 4
}
