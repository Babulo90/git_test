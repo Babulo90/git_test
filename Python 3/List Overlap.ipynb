{
 "cells": [
  {
   "cell_type": "code",
   "execution_count": 4,
   "metadata": {},
   "outputs": [
    {
     "name": "stdout",
     "output_type": "stream",
     "text": [
      "Enter the name to check riya\n",
      "Please Get Enrolled\n"
     ]
    }
   ],
   "source": [
    "list_of_students = [\"sam\",\"michale\",\"jin\",\"jim\",\"max\"]\n",
    "\n",
    "Name = input(\"Enter the name to check \")\n",
    "\n",
    "if Name in list_of_students:\n",
    "    \n",
    "    print(\"Student Already Enrolled\")\n",
    "    \n",
    "else:\n",
    "    print(\"Please Get Enrolled\")"
   ]
  },
  {
   "cell_type": "code",
   "execution_count": null,
   "metadata": {},
   "outputs": [],
   "source": []
  }
 ],
 "metadata": {
  "kernelspec": {
   "display_name": "Python 3",
   "language": "python",
   "name": "python3"
  },
  "language_info": {
   "codemirror_mode": {
    "name": "ipython",
    "version": 3
   },
   "file_extension": ".py",
   "mimetype": "text/x-python",
   "name": "python",
   "nbconvert_exporter": "python",
   "pygments_lexer": "ipython3",
   "version": "3.8.10"
  }
 },
 "nbformat": 4,
 "nbformat_minor": 4
}
