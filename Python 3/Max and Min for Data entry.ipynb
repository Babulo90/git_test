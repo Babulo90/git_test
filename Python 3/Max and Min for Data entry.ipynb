{
 "cells": [
  {
   "cell_type": "code",
   "execution_count": null,
   "metadata": {},
   "outputs": [],
   "source": [
    "def maxminposition(A,n):\n",
    "    minposition = A.index(min(A))\n",
    "    maxposition = A.index(max(A))\n",
    "    print ('The maximum is at position::', maxposition + 1)\n",
    "    print ('The minimum is at position::', minposition + 1)\n",
    "    \n",
    "A = list()\n",
    "n = int(input(\"enter the size of the list::\"))\n",
    "print ('enter the element::')\n",
    "for i in range(int(n)):\n",
    "    k = int(input(\"\"))\n",
    "    A.append(k)\n",
    "maxminposition(A,n)\n"
   ]
  },
  {
   "cell_type": "code",
   "execution_count": null,
   "metadata": {},
   "outputs": [],
   "source": []
  },
  {
   "cell_type": "code",
   "execution_count": null,
   "metadata": {},
   "outputs": [],
   "source": []
  },
  {
   "cell_type": "code",
   "execution_count": null,
   "metadata": {},
   "outputs": [],
   "source": []
  }
 ],
 "metadata": {
  "kernelspec": {
   "display_name": "Python 3",
   "language": "python",
   "name": "python3"
  },
  "language_info": {
   "codemirror_mode": {
    "name": "ipython",
    "version": 3
   },
   "file_extension": ".py",
   "mimetype": "text/x-python",
   "name": "python",
   "nbconvert_exporter": "python",
   "pygments_lexer": "ipython3",
   "version": "3.8.10"
  }
 },
 "nbformat": 4,
 "nbformat_minor": 4
}
