{
 "cells": [
  {
   "cell_type": "code",
   "execution_count": null,
   "metadata": {},
   "outputs": [
    {
     "name": "stdout",
     "output_type": "stream",
     "text": [
      "Enter 1 for C to F OR Enter 2 for F to C\n",
      "2\n"
     ]
    }
   ],
   "source": [
    "choice = int(input(\"Enter 1 for C to F OR Enter 2 for F to C\\n\"))\n",
    "\n",
    "if choice == 1:\n",
    "    celcius = float(input(\"Enter the value of celcius\\n\"))\n",
    "    \n",
    "    fahrenheit = (celcius * 9/5) + 32\n",
    "    \n",
    "    print('%f celcius is: %f fahrenheit' %(celcius, fahrenheit))\n",
    "    \n",
    "else:\n",
    "    fahrenheit = float(input(\"Enter the value of fahrenheit\\n\"))\n",
    "    \n",
    "    celcius = (fahrenheit - 32) * 5/9\n",
    "    \n",
    "    print ('%f fahrenheit is: %f celcius' %(fahrenheit, celcius))\n",
    "    "
   ]
  },
  {
   "cell_type": "code",
   "execution_count": null,
   "metadata": {},
   "outputs": [],
   "source": []
  }
 ],
 "metadata": {
  "kernelspec": {
   "display_name": "Python 3",
   "language": "python",
   "name": "python3"
  },
  "language_info": {
   "codemirror_mode": {
    "name": "ipython",
    "version": 3
   },
   "file_extension": ".py",
   "mimetype": "text/x-python",
   "name": "python",
   "nbconvert_exporter": "python",
   "pygments_lexer": "ipython3",
   "version": "3.8.10"
  }
 },
 "nbformat": 4,
 "nbformat_minor": 4
}
