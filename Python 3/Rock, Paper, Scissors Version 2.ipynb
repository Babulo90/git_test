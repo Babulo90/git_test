{
 "cells": [
  {
   "cell_type": "code",
   "execution_count": 2,
   "metadata": {},
   "outputs": [
    {
     "name": "stdout",
     "output_type": "stream",
     "text": [
      "what's your name? Tamal\n",
      "and your's sam\n",
      "Tamal, what do you want to choose ? rock\n",
      "sam, what do you want to choose ? paper\n",
      "paper wins!\n"
     ]
    }
   ],
   "source": [
    "import sys\n",
    "\n",
    "user1 = input(\"what's your name? \")\n",
    "\n",
    "user2 = input(\"and your's \")\n",
    "\n",
    "user1_answer = input(\"%s, what do you want to choose ? \" % user1 )\n",
    "\n",
    "user2_answer = input(\"%s, what do you want to choose ? \" % user2 )\n",
    "\n",
    "def compare(u1, u2):\n",
    "    \n",
    "    if u1 == u2:\n",
    "        \n",
    "        return(\"it's a tie!\")\n",
    "    \n",
    "    elif u1 == 'rock':\n",
    "        \n",
    "        if u2 == 'scissors':\n",
    "            \n",
    "            return('rock wins!')\n",
    "        \n",
    "        else:\n",
    "            \n",
    "            return('paper wins!')\n",
    "        \n",
    "    elif u1 == 'scissors':\n",
    "        \n",
    "        if u2 == 'paper':\n",
    "            \n",
    "            return('scissors wins!')\n",
    "        \n",
    "        else:\n",
    "            \n",
    "            return('Rock wins!')\n",
    "        \n",
    "    elif u1 =='paper':\n",
    "        \n",
    "        if u2 == 'rock':\n",
    "            \n",
    "            return('paper wins!')\n",
    "        \n",
    "        else:\n",
    "            \n",
    "            return('scissor wins!')\n",
    "    else:\n",
    "        \n",
    "        return('invalid input!, try again')\n",
    "    \n",
    "    sys.exit()\n",
    "    \n",
    "print(compare(user1_answer ,user2_answer ))"
   ]
  },
  {
   "cell_type": "code",
   "execution_count": null,
   "metadata": {},
   "outputs": [],
   "source": []
  }
 ],
 "metadata": {
  "kernelspec": {
   "display_name": "Python 3",
   "language": "python",
   "name": "python3"
  },
  "language_info": {
   "codemirror_mode": {
    "name": "ipython",
    "version": 3
   },
   "file_extension": ".py",
   "mimetype": "text/x-python",
   "name": "python",
   "nbconvert_exporter": "python",
   "pygments_lexer": "ipython3",
   "version": "3.8.10"
  }
 },
 "nbformat": 4,
 "nbformat_minor": 4
}
